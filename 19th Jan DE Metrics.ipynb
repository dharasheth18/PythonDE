{
 "cells": [
  {
   "cell_type": "code",
   "execution_count": 1,
   "id": "a1a044db",
   "metadata": {},
   "outputs": [],
   "source": [
    "import pandas as pd\n",
    "import numpy as np\n",
    "import matplotlib.pyplot as plt\n",
    "import seaborn as sns\n",
    "%matplotlib inline"
   ]
  },
  {
   "cell_type": "code",
   "execution_count": 2,
   "id": "6f4d0c55",
   "metadata": {},
   "outputs": [],
   "source": [
    "loan_df = pd.read_csv('/Users/dharasheth/Downloads/Loan_Default.csv')"
   ]
  },
  {
   "cell_type": "code",
   "execution_count": 3,
   "id": "c59354cf",
   "metadata": {},
   "outputs": [
    {
     "data": {
      "text/html": [
       "<div>\n",
       "<style scoped>\n",
       "    .dataframe tbody tr th:only-of-type {\n",
       "        vertical-align: middle;\n",
       "    }\n",
       "\n",
       "    .dataframe tbody tr th {\n",
       "        vertical-align: top;\n",
       "    }\n",
       "\n",
       "    .dataframe thead th {\n",
       "        text-align: right;\n",
       "    }\n",
       "</style>\n",
       "<table border=\"1\" class=\"dataframe\">\n",
       "  <thead>\n",
       "    <tr style=\"text-align: right;\">\n",
       "      <th></th>\n",
       "      <th>ID</th>\n",
       "      <th>year</th>\n",
       "      <th>loan_limit</th>\n",
       "      <th>Gender</th>\n",
       "      <th>approv_in_adv</th>\n",
       "      <th>loan_type</th>\n",
       "      <th>loan_purpose</th>\n",
       "      <th>Credit_Worthiness</th>\n",
       "      <th>open_credit</th>\n",
       "      <th>business_or_commercial</th>\n",
       "      <th>...</th>\n",
       "      <th>Credit_Score</th>\n",
       "      <th>co-applicant_credit_type</th>\n",
       "      <th>age</th>\n",
       "      <th>submission_of_application</th>\n",
       "      <th>LTV</th>\n",
       "      <th>Region</th>\n",
       "      <th>Security_Type</th>\n",
       "      <th>Status</th>\n",
       "      <th>dtir1</th>\n",
       "      <th>loan_amt_v_income</th>\n",
       "    </tr>\n",
       "  </thead>\n",
       "  <tbody>\n",
       "    <tr>\n",
       "      <th>0</th>\n",
       "      <td>24890</td>\n",
       "      <td>2019</td>\n",
       "      <td>cf</td>\n",
       "      <td>Sex Not Available</td>\n",
       "      <td>nopre</td>\n",
       "      <td>type1</td>\n",
       "      <td>p1</td>\n",
       "      <td>l1</td>\n",
       "      <td>nopc</td>\n",
       "      <td>nob/c</td>\n",
       "      <td>...</td>\n",
       "      <td>758</td>\n",
       "      <td>CIB</td>\n",
       "      <td>25-34</td>\n",
       "      <td>to_inst</td>\n",
       "      <td>98.728814</td>\n",
       "      <td>south</td>\n",
       "      <td>direct</td>\n",
       "      <td>1</td>\n",
       "      <td>45.0</td>\n",
       "      <td>66.954023</td>\n",
       "    </tr>\n",
       "    <tr>\n",
       "      <th>1</th>\n",
       "      <td>24891</td>\n",
       "      <td>2019</td>\n",
       "      <td>cf</td>\n",
       "      <td>Male</td>\n",
       "      <td>nopre</td>\n",
       "      <td>type2</td>\n",
       "      <td>p1</td>\n",
       "      <td>l1</td>\n",
       "      <td>nopc</td>\n",
       "      <td>b/c</td>\n",
       "      <td>...</td>\n",
       "      <td>552</td>\n",
       "      <td>EXP</td>\n",
       "      <td>55-64</td>\n",
       "      <td>to_inst</td>\n",
       "      <td>NaN</td>\n",
       "      <td>North</td>\n",
       "      <td>direct</td>\n",
       "      <td>1</td>\n",
       "      <td>NaN</td>\n",
       "      <td>41.465863</td>\n",
       "    </tr>\n",
       "    <tr>\n",
       "      <th>2</th>\n",
       "      <td>24892</td>\n",
       "      <td>2019</td>\n",
       "      <td>cf</td>\n",
       "      <td>Male</td>\n",
       "      <td>pre</td>\n",
       "      <td>type1</td>\n",
       "      <td>p1</td>\n",
       "      <td>l1</td>\n",
       "      <td>nopc</td>\n",
       "      <td>nob/c</td>\n",
       "      <td>...</td>\n",
       "      <td>834</td>\n",
       "      <td>CIB</td>\n",
       "      <td>35-44</td>\n",
       "      <td>to_inst</td>\n",
       "      <td>80.019685</td>\n",
       "      <td>south</td>\n",
       "      <td>direct</td>\n",
       "      <td>0</td>\n",
       "      <td>46.0</td>\n",
       "      <td>42.879747</td>\n",
       "    </tr>\n",
       "    <tr>\n",
       "      <th>3</th>\n",
       "      <td>24893</td>\n",
       "      <td>2019</td>\n",
       "      <td>cf</td>\n",
       "      <td>Male</td>\n",
       "      <td>nopre</td>\n",
       "      <td>type1</td>\n",
       "      <td>p4</td>\n",
       "      <td>l1</td>\n",
       "      <td>nopc</td>\n",
       "      <td>nob/c</td>\n",
       "      <td>...</td>\n",
       "      <td>587</td>\n",
       "      <td>CIB</td>\n",
       "      <td>45-54</td>\n",
       "      <td>not_inst</td>\n",
       "      <td>69.376900</td>\n",
       "      <td>North</td>\n",
       "      <td>direct</td>\n",
       "      <td>0</td>\n",
       "      <td>42.0</td>\n",
       "      <td>38.425926</td>\n",
       "    </tr>\n",
       "    <tr>\n",
       "      <th>4</th>\n",
       "      <td>24894</td>\n",
       "      <td>2019</td>\n",
       "      <td>cf</td>\n",
       "      <td>Joint</td>\n",
       "      <td>pre</td>\n",
       "      <td>type1</td>\n",
       "      <td>p1</td>\n",
       "      <td>l1</td>\n",
       "      <td>nopc</td>\n",
       "      <td>nob/c</td>\n",
       "      <td>...</td>\n",
       "      <td>602</td>\n",
       "      <td>EXP</td>\n",
       "      <td>25-34</td>\n",
       "      <td>not_inst</td>\n",
       "      <td>91.886544</td>\n",
       "      <td>North</td>\n",
       "      <td>direct</td>\n",
       "      <td>0</td>\n",
       "      <td>39.0</td>\n",
       "      <td>66.714559</td>\n",
       "    </tr>\n",
       "  </tbody>\n",
       "</table>\n",
       "<p>5 rows × 35 columns</p>\n",
       "</div>"
      ],
      "text/plain": [
       "      ID  year loan_limit             Gender approv_in_adv loan_type  \\\n",
       "0  24890  2019         cf  Sex Not Available         nopre     type1   \n",
       "1  24891  2019         cf               Male         nopre     type2   \n",
       "2  24892  2019         cf               Male           pre     type1   \n",
       "3  24893  2019         cf               Male         nopre     type1   \n",
       "4  24894  2019         cf              Joint           pre     type1   \n",
       "\n",
       "  loan_purpose Credit_Worthiness open_credit business_or_commercial  ...  \\\n",
       "0           p1                l1        nopc                  nob/c  ...   \n",
       "1           p1                l1        nopc                    b/c  ...   \n",
       "2           p1                l1        nopc                  nob/c  ...   \n",
       "3           p4                l1        nopc                  nob/c  ...   \n",
       "4           p1                l1        nopc                  nob/c  ...   \n",
       "\n",
       "   Credit_Score  co-applicant_credit_type    age  submission_of_application  \\\n",
       "0           758                       CIB  25-34                    to_inst   \n",
       "1           552                       EXP  55-64                    to_inst   \n",
       "2           834                       CIB  35-44                    to_inst   \n",
       "3           587                       CIB  45-54                   not_inst   \n",
       "4           602                       EXP  25-34                   not_inst   \n",
       "\n",
       "         LTV Region Security_Type Status  dtir1 loan_amt_v_income  \n",
       "0  98.728814  south        direct      1   45.0         66.954023  \n",
       "1        NaN  North        direct      1    NaN         41.465863  \n",
       "2  80.019685  south        direct      0   46.0         42.879747  \n",
       "3  69.376900  North        direct      0   42.0         38.425926  \n",
       "4  91.886544  North        direct      0   39.0         66.714559  \n",
       "\n",
       "[5 rows x 35 columns]"
      ]
     },
     "execution_count": 3,
     "metadata": {},
     "output_type": "execute_result"
    }
   ],
   "source": [
    "loan_df[\"income\"] = loan_df[\"income\"].fillna(loan_df[\"income\"].mean())\n",
    "loan_df[\"loan_amount\"] = loan_df[\"loan_amount\"].fillna(loan_df[\"loan_amount\"].mean())\n",
    "loan_df[\"rate_of_interest\"] = loan_df[\"rate_of_interest\"].fillna(loan_df[\"rate_of_interest\"].mean())\n",
    "loan_df[\"approv_in_adv\"] = loan_df[\"approv_in_adv\"].fillna(loan_df[\"approv_in_adv\"].mode())\n",
    "\n",
    "\n",
    "\n",
    "loan_df = loan_df.assign(\n",
    "total_units = loan_df[\"total_units\"].map({\n",
    "\"1U\": \"1U\",\n",
    "\"2U\": \"2U+\",\n",
    "\"3U\": \"2U+\",\n",
    "\"4U\": \"2U+\"}),\n",
    "loan_amt_v_income = loan_df[\"loan_amount\"]/loan_df[\"income\"]\n",
    ")\n",
    "\n",
    "loan_df.head()"
   ]
  },
  {
   "cell_type": "code",
   "execution_count": 4,
   "id": "f735e698",
   "metadata": {},
   "outputs": [
    {
     "name": "stdout",
     "output_type": "stream",
     "text": [
      "<class 'pandas.core.frame.DataFrame'>\n",
      "RangeIndex: 148670 entries, 0 to 148669\n",
      "Data columns (total 29 columns):\n",
      " #   Column                     Non-Null Count   Dtype  \n",
      "---  ------                     --------------   -----  \n",
      " 0   loan_limit                 145326 non-null  object \n",
      " 1   Gender                     148670 non-null  object \n",
      " 2   approv_in_adv              147762 non-null  object \n",
      " 3   loan_type                  148670 non-null  object \n",
      " 4   loan_purpose               148536 non-null  object \n",
      " 5   Credit_Worthiness          148670 non-null  object \n",
      " 6   business_or_commercial     148670 non-null  object \n",
      " 7   loan_amount                148670 non-null  int64  \n",
      " 8   rate_of_interest           148670 non-null  float64\n",
      " 9   Interest_rate_spread       112031 non-null  float64\n",
      " 10  Upfront_charges            109028 non-null  float64\n",
      " 11  term                       148629 non-null  float64\n",
      " 12  Neg_ammortization          148549 non-null  object \n",
      " 13  interest_only              148670 non-null  object \n",
      " 14  lump_sum_payment           148670 non-null  object \n",
      " 15  property_value             133572 non-null  float64\n",
      " 16  occupancy_type             148670 non-null  object \n",
      " 17  total_units                148670 non-null  object \n",
      " 18  income                     148670 non-null  float64\n",
      " 19  credit_type                148670 non-null  object \n",
      " 20  Credit_Score               148670 non-null  int64  \n",
      " 21  co-applicant_credit_type   148670 non-null  object \n",
      " 22  age                        148470 non-null  object \n",
      " 23  submission_of_application  148470 non-null  object \n",
      " 24  LTV                        133572 non-null  float64\n",
      " 25  Region                     148670 non-null  object \n",
      " 26  Status                     148670 non-null  int64  \n",
      " 27  dtir1                      124549 non-null  float64\n",
      " 28  loan_amt_v_income          148670 non-null  float64\n",
      "dtypes: float64(9), int64(3), object(17)\n",
      "memory usage: 32.9+ MB\n"
     ]
    }
   ],
   "source": [
    "prep_loan_df = loan_df.drop([\n",
    " \"year\", \n",
    " \"ID\", \n",
    " \"open_credit\", \n",
    " \"construction_type\", \n",
    " \"Security_Type\", \n",
    " \"Secured_by\"], \n",
    " axis=1\n",
    " )\n",
    "prep_loan_df.info()"
   ]
  },
  {
   "cell_type": "code",
   "execution_count": 10,
   "id": "781bc084",
   "metadata": {},
   "outputs": [],
   "source": [
    "from sklearn.model_selection import train_test_split\n",
    "\n",
    "features = [\n",
    "\"loan_amount\", \n",
    "\"income\", \n",
    "\"Gender\",\n",
    "\"rate_of_interest\",\n",
    "\"age\",\n",
    "\"lump_sum_payment\",\n",
    "\"credit_type\",\n",
    "\"total_units\",\n",
    "\"Credit_Worthiness\",\n",
    "\"Credit_Score\",\n",
    "\"approv_in_adv\", \n",
    "\n",
    "]\n",
    "\n",
    "X = pd.get_dummies(prep_loan_df[features], drop_first=True)\n",
    "y = prep_loan_df[\"Status\"]\n",
    "\n",
    "X_train, X_test, y_train, y_test = train_test_split(X, y, test_size=.2, random_state=12345)\n",
    "from sklearn.linear_model import LogisticRegression"
   ]
  },
  {
   "cell_type": "code",
   "execution_count": 11,
   "id": "20342196",
   "metadata": {},
   "outputs": [],
   "source": [
    "from sklearn.linear_model import LogisticRegression "
   ]
  },
  {
   "cell_type": "code",
   "execution_count": 14,
   "id": "fd85af24",
   "metadata": {},
   "outputs": [
    {
     "data": {
      "text/plain": [
       "0.8525929911885384"
      ]
     },
     "execution_count": 14,
     "metadata": {},
     "output_type": "execute_result"
    }
   ],
   "source": [
    "lr = LogisticRegression()\n",
    "lr = lr.fit(X_train, y_train)\n",
    "lr.score(X_test, y_test)"
   ]
  },
  {
   "cell_type": "code",
   "execution_count": 13,
   "id": "db26f081",
   "metadata": {},
   "outputs": [
    {
     "data": {
      "text/plain": [
       "0.8525929911885384"
      ]
     },
     "execution_count": 13,
     "metadata": {},
     "output_type": "execute_result"
    }
   ],
   "source": [
    "from sklearn.metrics import accuracy_score\n",
    "accuracy_score(y_test, lr.predict(X_test))"
   ]
  },
  {
   "cell_type": "code",
   "execution_count": 32,
   "id": "45f0b342",
   "metadata": {},
   "outputs": [
    {
     "data": {
      "text/plain": [
       "0.8525929911885384"
      ]
     },
     "execution_count": 32,
     "metadata": {},
     "output_type": "execute_result"
    }
   ],
   "source": [
    "from sklearn.metrics import accuracy_score, precision_score, confusion_matrix, recall_score, f1_score\n",
    "accuracy_score(y_test, lr.predict(X_test))"
   ]
  },
  {
   "cell_type": "code",
   "execution_count": 16,
   "id": "b703c9e7",
   "metadata": {},
   "outputs": [
    {
     "data": {
      "text/plain": [
       "array([[22214,   131],\n",
       "       [ 4252,  3137]])"
      ]
     },
     "execution_count": 16,
     "metadata": {},
     "output_type": "execute_result"
    }
   ],
   "source": [
    "confusion_matrix(y_test, lr.predict(X_test))"
   ]
  },
  {
   "cell_type": "code",
   "execution_count": 17,
   "id": "d44bb7e5",
   "metadata": {},
   "outputs": [
    {
     "data": {
      "text/plain": [
       "0.9599143206854345"
      ]
     },
     "execution_count": 17,
     "metadata": {},
     "output_type": "execute_result"
    }
   ],
   "source": [
    "precision_score(y_test, lr.predict(X_test))"
   ]
  },
  {
   "cell_type": "code",
   "execution_count": 18,
   "id": "f34bef8a",
   "metadata": {},
   "outputs": [
    {
     "data": {
      "text/plain": [
       "0.42455000676681554"
      ]
     },
     "execution_count": 18,
     "metadata": {},
     "output_type": "execute_result"
    }
   ],
   "source": [
    "recall_score(y_test, lr.predict(X_test))"
   ]
  },
  {
   "cell_type": "code",
   "execution_count": 36,
   "id": "acc11006",
   "metadata": {},
   "outputs": [
    {
     "data": {
      "text/plain": [
       "0.5887210284320165"
      ]
     },
     "execution_count": 36,
     "metadata": {},
     "output_type": "execute_result"
    }
   ],
   "source": [
    "f1 = f1_score(y_test, lr.predict(X_test))\n",
    "f1"
   ]
  },
  {
   "cell_type": "code",
   "execution_count": 19,
   "id": "97e6298e",
   "metadata": {},
   "outputs": [],
   "source": [
    "from sklearn.preprocessing import StandardScaler"
   ]
  },
  {
   "cell_type": "code",
   "execution_count": 20,
   "id": "bb6b7724",
   "metadata": {},
   "outputs": [],
   "source": [
    "std = StandardScaler()\n",
    "\n",
    "X_train_std = std.fit_transform(X_train)\n",
    "X_test_std = std.fit_transform(X_test)"
   ]
  },
  {
   "cell_type": "code",
   "execution_count": 26,
   "id": "bcbb50e6",
   "metadata": {},
   "outputs": [
    {
     "name": "stdout",
     "output_type": "stream",
     "text": [
      "Train Accuracy:0.8607654536893792\n",
      "Test Accuracy:0.86211071500639\n"
     ]
    }
   ],
   "source": [
    "#tuneing it\n",
    "logreg = LogisticRegression(C=.6, penalty=\"l1\", solver=\"saga\", max_iter=1000)\n",
    "lr_reg = logreg.fit(X_train_std, y_train)\n",
    "\n",
    "print(f\"Train Accuracy:{lr_reg.score(X_train_std, y_train)}\")\n",
    "print(f\"Test Accuracy:{lr_reg.score(X_test_std, y_test)}\")"
   ]
  },
  {
   "cell_type": "code",
   "execution_count": 27,
   "id": "41805d42",
   "metadata": {},
   "outputs": [
    {
     "data": {
      "text/plain": [
       "array([[22207,   138],\n",
       "       [ 3962,  3427]])"
      ]
     },
     "execution_count": 27,
     "metadata": {},
     "output_type": "execute_result"
    }
   ],
   "source": [
    "confusion_matrix(y_test, lr_reg.predict(X_test_std))"
   ]
  },
  {
   "cell_type": "code",
   "execution_count": 28,
   "id": "b2899548",
   "metadata": {},
   "outputs": [
    {
     "data": {
      "text/plain": [
       "0.9612903225806452"
      ]
     },
     "execution_count": 28,
     "metadata": {},
     "output_type": "execute_result"
    }
   ],
   "source": [
    "precision_score(y_test, lr_reg.predict(X_test_std))"
   ]
  },
  {
   "cell_type": "code",
   "execution_count": 29,
   "id": "7f1e6819",
   "metadata": {},
   "outputs": [
    {
     "data": {
      "text/plain": [
       "0.46379753687914466"
      ]
     },
     "execution_count": 29,
     "metadata": {},
     "output_type": "execute_result"
    }
   ],
   "source": [
    "recall_score(y_test, lr_reg.predict(X_test_std))"
   ]
  },
  {
   "cell_type": "code",
   "execution_count": 38,
   "id": "b8120df9",
   "metadata": {},
   "outputs": [
    {
     "data": {
      "text/plain": [
       "0.6257075041080884"
      ]
     },
     "execution_count": 38,
     "metadata": {},
     "output_type": "execute_result"
    }
   ],
   "source": [
    "f1 = f1_score(y_test, lr_reg.predict(X_test_std))\n",
    "f1"
   ]
  },
  {
   "cell_type": "code",
   "execution_count": 45,
   "id": "c2eb001b",
   "metadata": {},
   "outputs": [
    {
     "data": {
      "text/plain": [
       "array([False, False, False, ..., False, False,  True])"
      ]
     },
     "execution_count": 45,
     "metadata": {},
     "output_type": "execute_result"
    }
   ],
   "source": [
    "lr_reg.predict_proba(X_test_std)[:,1] > .25"
   ]
  },
  {
   "cell_type": "code",
   "execution_count": 58,
   "id": "19039ac9",
   "metadata": {},
   "outputs": [
    {
     "data": {
      "text/plain": [
       "array([[ 3507, 18838],\n",
       "       [  329,  7060]])"
      ]
     },
     "execution_count": 58,
     "metadata": {},
     "output_type": "execute_result"
    }
   ],
   "source": [
    "confusion_matrix(y_test,lr_reg.predict_proba(X_test_std)[:,1] > .1)"
   ]
  },
  {
   "cell_type": "code",
   "execution_count": 79,
   "id": "dac32753",
   "metadata": {},
   "outputs": [
    {
     "data": {
      "image/png": "[encoded data removed]",
      "text/plain": [
       "<Figure size 640x480 with 1 Axes>"
      ]
     },
     "metadata": {},
     "output_type": "display_data"
    }
   ],
   "source": [
    "from sklearn.metrics import precision_recall_curve \n",
    "import matplotlib.pyplot as plt\n",
    "\n",
    "p_curve, r_curve, t_curve = precision_recall_curve(y_train, lr_reg.predict_proba(X_train_std)[:,1])\n",
    "\n",
    "plt.plot(t_curve, p_curve[:-1], label='Precision')\n",
    "plt.plot(t_curve, r_curve[:-1], label='Recall')\n",
    "plt.xlabel('Prediction Threshold')\n",
    "plt.ylabel('Scores')\n",
    "plt.legend()\n",
    "plt.title('Precision-Recall Curve')\n",
    "plt.show()"
   ]
  },
  {
   "cell_type": "code",
   "execution_count": null,
   "id": "e49b341f",
   "metadata": {},
   "outputs": [],
   "source": []
  },
  {
   "cell_type": "code",
   "execution_count": 78,
   "id": "e321ed5a",
   "metadata": {},
   "outputs": [
    {
     "data": {
      "image/png": "[encoded data removed]",
      "text/plain": [
       "<Figure size 800x600 with 1 Axes>"
      ]
     },
     "metadata": {},
     "output_type": "display_data"
    }
   ],
   "source": [
    "y_probs = lr.predict_proba(X_test) [:,1]\n",
    "thresholds = np.linspace(0, 1, 100)\n",
    "f1_scores = [f1_score(y_test, (y_probs >= threshold)) for threshold in thresholds]\n",
    "\n",
    "plt.figure(figsize=(8, 6))\n",
    "plt.plot(thresholds, f1_scores)\n",
    "plt.xlabel('Threshold')\n",
    "plt.ylabel('F1 Score')\n",
    "plt.title('F1 Score vs. Threshold')\n",
    "plt.show()"
   ]
  },
  {
   "cell_type": "code",
   "execution_count": 97,
   "id": "42bfe2cc",
   "metadata": {},
   "outputs": [
    {
     "data": {
      "image/png": "[encoded data removed]",
      "text/plain": [
       "<Figure size 800x600 with 1 Axes>"
      ]
     },
     "metadata": {},
     "output_type": "display_data"
    }
   ],
   "source": [
    "# Precision vs Recall \n",
    "\n",
    "#y_probs = lr.predict_proba(X_train_std) [:,1]\n",
    "# thresholds = np.linspace(0, 1, 200)\n",
    "# f1_scores = [f1_score(y_train, (y_probs >= threshold)) for threshold in thresholds]\n",
    "p_curve, r_curve, t_curve = precision_recall_curve(y_train, lr_reg.predict_proba(X_train_std)[:,1])\n",
    "\n",
    "plt.figure(figsize=(8, 6))\n",
    "plt.plot(r_curve, p_curve, label='Precision-Recall Curve')\n",
    "plt.xlabel('Recall')\n",
    "plt.ylabel('Precision')\n",
    "plt.title('Precision vs. Recall')\n",
    "plt.legend()\n",
    "plt.show()"
   ]
  },
  {
   "cell_type": "code",
   "execution_count": null,
   "id": "958656a5",
   "metadata": {},
   "outputs": [],
   "source": []
  }
 ],
 "metadata": {
  "kernelspec": {
   "display_name": "Python 3 (ipykernel)",
   "language": "python",
   "name": "python3"
  },
  "language_info": {
   "codemirror_mode": {
    "name": "ipython",
    "version": 3
   },
   "file_extension": ".py",
   "mimetype": "text/x-python",
   "name": "python",
   "nbconvert_exporter": "python",
   "pygments_lexer": "ipython3",
   "version": "3.11.5"
  }
 },
 "nbformat": 4,
 "nbformat_minor": 5
}
